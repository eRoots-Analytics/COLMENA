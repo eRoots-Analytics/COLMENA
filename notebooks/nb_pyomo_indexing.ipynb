{
 "cells": [
  {
   "cell_type": "code",
   "execution_count": 1,
   "id": "75bbb458",
   "metadata": {},
   "outputs": [
    {
     "name": "stdout",
     "output_type": "stream",
     "text": [
      "Index: 0, Variable x[0] = 0\n",
      "Index: 1, Variable x[1] = 0\n",
      "Index: 2, Variable x[2] = 0\n",
      "Index: 3, Variable x[3] = 0\n"
     ]
    }
   ],
   "source": [
    "import pyomo.environ as pyo\n",
    "\n",
    "model = pyo.ConcreteModel()\n",
    "model.T = 3\n",
    "model.TimeHorizon = pyo.RangeSet(0, model.T)\n",
    "\n",
    "model.x = pyo.Var(model.TimeHorizon, initialize=0)\n",
    "\n",
    "for t in model.TimeHorizon:\n",
    "    print(f\"Index: {t}, Variable x[{t}] = {model.x[t].value}\")"
   ]
  }
 ],
 "metadata": {
  "kernelspec": {
   "display_name": "venv",
   "language": "python",
   "name": "python3"
  },
  "language_info": {
   "codemirror_mode": {
    "name": "ipython",
    "version": 3
   },
   "file_extension": ".py",
   "mimetype": "text/x-python",
   "name": "python",
   "nbconvert_exporter": "python",
   "pygments_lexer": "ipython3",
   "version": "3.11.9"
  }
 },
 "nbformat": 4,
 "nbformat_minor": 5
}
